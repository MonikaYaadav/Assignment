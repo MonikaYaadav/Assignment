{
 "cells": [
  {
   "cell_type": "code",
   "execution_count": 2,
   "id": "7d5cfe70",
   "metadata": {},
   "outputs": [],
   "source": [
    "### Ques1 :\n",
    "\"\"\"\n",
    "* is an expression\n",
    "'hello' is a vlaue\n",
    "-87.8 is a value\n",
    "- is an expression\n",
    "/ is an expression\n",
    "+ is an expression\n",
    "6 is a value\n",
    "\"\"\" "
   ]
  },
  {
   "cell_type": "code",
   "execution_count": 3,
   "id": "cd3b4f40",
   "metadata": {
    "scrolled": true
   },
   "outputs": [
    {
     "data": {
      "text/plain": [
       "'\\nstring- string is a text value .which is enquoted in either \\'\\' or \"\" .\\n\\nvariable- variable is a numeric value for example - integer,float. \\n'"
      ]
     },
     "execution_count": 3,
     "metadata": {},
     "output_type": "execute_result"
    }
   ],
   "source": [
    "### Ques2 :\n",
    "\"\"\"\n",
    "string- string is a text value .which is enquoted in either '' or \"\" .\n",
    "\n",
    "variable- variable is a container for storing values like integer values ,string value ,float value ,lists etc. \n",
    "\"\"\""
   ]
  },
  {
   "cell_type": "code",
   "execution_count": 6,
   "id": "543651d6",
   "metadata": {},
   "outputs": [
    {
     "name": "stdout",
     "output_type": "stream",
     "text": [
      "String <class 'str'>\n",
      "23 <class 'int'>\n",
      "23.44 <class 'float'>\n",
      "[1, 2, 3, 4, 5] <class 'list'>\n",
      "(11, 22, 33) <class 'tuple'>\n",
      "{'a': 1, 'b': 2, 'c': 3} <class 'dict'>\n"
     ]
    }
   ],
   "source": [
    "### Ques3 :\n",
    "str1 = \"String\"\n",
    "print(str1,type(str1))\n",
    "var1 = 23\n",
    "print(var1,type(var1))\n",
    "var2 = 23.44\n",
    "print(var2,type(var2))\n",
    "list1 = [1, 2, 3, 4, 5]\n",
    "print(list1,type(list1))\n",
    "var4 = (11,22,33)\n",
    "print(var4,type(var4))\n",
    "var5 = {'a':1,'b':2,'c':3}\n",
    "print(var5,type(var5))"
   ]
  },
  {
   "cell_type": "code",
   "execution_count": 7,
   "id": "e6108393",
   "metadata": {},
   "outputs": [
    {
     "data": {
      "text/plain": [
       "'\\nExpression is made up of operands and operator. \\nAn expression produce result after execution.\\n'"
      ]
     },
     "execution_count": 7,
     "metadata": {},
     "output_type": "execute_result"
    }
   ],
   "source": [
    "### Ques4 :\n",
    "\"\"\"\n",
    "Expression is made up of operands and operator. \n",
    "An expression produce result after execution.\n",
    "\"\"\""
   ]
  },
  {
   "cell_type": "code",
   "execution_count": null,
   "id": "b4e20c6c",
   "metadata": {},
   "outputs": [],
   "source": [
    "### Ques5 :\n",
    "\"\"\"\n",
    "The assignment statement spam = 10 \n",
    "Statement - A statement is composed of expressions , statement may or maynot produce any result as in above statement.\n",
    "Experssion - An expression is a subset of statement, it contain +,_,*,% etc. \n",
    "\"\"\""
   ]
  },
  {
   "cell_type": "code",
   "execution_count": 8,
   "id": "92ed3db8",
   "metadata": {},
   "outputs": [
    {
     "data": {
      "text/plain": [
       "23"
      ]
     },
     "execution_count": 8,
     "metadata": {},
     "output_type": "execute_result"
    }
   ],
   "source": [
    "### Ques6 :\n",
    "bacon = 22 \n",
    "bacon+1"
   ]
  },
  {
   "cell_type": "code",
   "execution_count": 10,
   "id": "529d27d1",
   "metadata": {},
   "outputs": [
    {
     "name": "stdout",
     "output_type": "stream",
     "text": [
      "term1 =  spamspamspam\n",
      "term2 =  spamspamspam\n"
     ]
    }
   ],
   "source": [
    "### Ques7 :\n",
    "term1 = 'spam'+'spamspam'\n",
    "term2 = 'spam'*3\n",
    "print(\"term1 = \",term1)\n",
    "print(\"term2 = \",term2)"
   ]
  },
  {
   "cell_type": "code",
   "execution_count": null,
   "id": "cfae01cf",
   "metadata": {},
   "outputs": [],
   "source": [
    "### Ques8 :\n",
    "\"\"\"\n",
    "'eggs' is a valid variable  as it satisfies the condtions of an identifier.\n",
    "Hence '100' is not a valid variable as an identifier cannot be start with numeric values\"\"\""
   ]
  },
  {
   "cell_type": "code",
   "execution_count": 14,
   "id": "04c398b2",
   "metadata": {},
   "outputs": [
    {
     "name": "stdout",
     "output_type": "stream",
     "text": [
      "Interger value =  42\n",
      "Floating-point value =  42.0\n",
      "String value =  42\n"
     ]
    }
   ],
   "source": [
    "### Ques9 :\n",
    "value = 42\n",
    "int_value = int(value)\n",
    "print(\"Interger value = \",int_value)\n",
    "float_value = float(value)\n",
    "print(\"Floating-point value = \",float_value)\n",
    "str_value = str(value)\n",
    "print(\"String value = \",str_value)"
   ]
  },
  {
   "cell_type": "code",
   "execution_count": 17,
   "id": "2213456b",
   "metadata": {},
   "outputs": [
    {
     "name": "stdout",
     "output_type": "stream",
     "text": [
      "i have eaten 99 burritos\n"
     ]
    }
   ],
   "source": [
    "### Ques10 :\n",
    "\"\"\"\n",
    "experssion = 'i have eaten' + 99 + 'burritos' shows an error\n",
    "because we are concatinating string value and integer value \n",
    "\"\"\"\n",
    "# we can write the above expression as \n",
    "expression1 = 'i have eaten' + ' 99 ' + 'burritos' \n",
    "print(expression1)"
   ]
  },
  {
   "cell_type": "code",
   "execution_count": null,
   "id": "fc91ce83",
   "metadata": {},
   "outputs": [],
   "source": []
  }
 ],
 "metadata": {
  "kernelspec": {
   "display_name": "Python 3 (ipykernel)",
   "language": "python",
   "name": "python3"
  },
  "language_info": {
   "codemirror_mode": {
    "name": "ipython",
    "version": 3
   },
   "file_extension": ".py",
   "mimetype": "text/x-python",
   "name": "python",
   "nbconvert_exporter": "python",
   "pygments_lexer": "ipython3",
   "version": "3.9.12"
  }
 },
 "nbformat": 4,
 "nbformat_minor": 5
}
