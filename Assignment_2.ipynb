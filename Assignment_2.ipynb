{
 "cells": [
  {
   "cell_type": "code",
   "execution_count": 2,
   "id": "74f45ba5",
   "metadata": {},
   "outputs": [
    {
     "name": "stdout",
     "output_type": "stream",
     "text": [
      "True False\n"
     ]
    }
   ],
   "source": [
    "### Ques1:\n",
    "\"\"\"\n",
    "Two values of the boolean datatype is 'True' and 'False'\n",
    "\"\"\"\n",
    "Bool1 = True\n",
    "Bool2 = False\n",
    "print(Bool1,Bool2)"
   ]
  },
  {
   "cell_type": "code",
   "execution_count": 3,
   "id": "a45ce306",
   "metadata": {},
   "outputs": [
    {
     "name": "stdout",
     "output_type": "stream",
     "text": [
      "Using and operator on Bool1 and Bool2 :  False\n",
      "Using or operator on Bool1 and Bool2 :  True\n",
      "Using not operator on Bool1 :  False\n"
     ]
    }
   ],
   "source": [
    "### Ques2 :\n",
    "\"\"\"\n",
    "Three different type of boolean operators are 'and','or' and 'not'\n",
    "\"\"\"\n",
    "print(\"Using and operator on Bool1 and Bool2 : \",Bool1 and Bool2)\n",
    "print(\"Using or operator on Bool1 and Bool2 : \",Bool1 or Bool2)\n",
    "print(\"Using not operator on Bool1 : \",not Bool1)"
   ]
  },
  {
   "cell_type": "code",
   "execution_count": 5,
   "id": "e648e727",
   "metadata": {},
   "outputs": [
    {
     "name": "stdout",
     "output_type": "stream",
     "text": [
      "Truth table for 'and' operator\n",
      "[True, False, False, False]\n",
      "Truth table for 'or' operator\n",
      "[True, True, True, False]\n",
      "Truth table for 'not' operator\n",
      "[False, True]\n"
     ]
    }
   ],
   "source": [
    "### Ques3 :\n",
    "print(\"Truth table for 'and' operator\")\n",
    "list1 =  [True and True, True and False, False and True, False and False]\n",
    "print(list1)\n",
    "\n",
    "print(\"Truth table for 'or' operator\")\n",
    "list2 = [True or True, True or False, False or True, False or False]\n",
    "print(list2)\n",
    "\n",
    "print(\"Truth table for 'not' operator\")\n",
    "list3 = [not True,not False]\n",
    "print(list3)"
   ]
  },
  {
   "cell_type": "code",
   "execution_count": 6,
   "id": "a07b981a",
   "metadata": {},
   "outputs": [
    {
     "name": "stdout",
     "output_type": "stream",
     "text": [
      "False\n",
      "False\n",
      "True\n",
      "False\n",
      "True\n"
     ]
    }
   ],
   "source": [
    "### Ques4 :\n",
    "print((5 > 4) and  (3 == 5))\n",
    "print(not(5 > 4))\n",
    "print((5 > 4) or (3 == 5))\n",
    "print((True and True) and (True == False))\n",
    "print((not False) or (not True))"
   ]
  },
  {
   "cell_type": "code",
   "execution_count": 7,
   "id": "f6d5b353",
   "metadata": {},
   "outputs": [
    {
     "data": {
      "text/plain": [
       "\"\\nThe six comparision operators are as follows :\\n'==','!=','>','<','>=','<='\\n\""
      ]
     },
     "execution_count": 7,
     "metadata": {},
     "output_type": "execute_result"
    }
   ],
   "source": [
    "### Ques5 :\n",
    "\"\"\"\n",
    "The six comparision operators are as follows :\n",
    "'==','!=','>','<','>=','<='\n",
    "\"\"\""
   ]
  },
  {
   "cell_type": "code",
   "execution_count": 8,
   "id": "f8f98dd0",
   "metadata": {},
   "outputs": [
    {
     "name": "stdout",
     "output_type": "stream",
     "text": [
      "5 7 False\n"
     ]
    }
   ],
   "source": [
    "### Ques6 :\n",
    "\"\"\"\n",
    "equal operator(==) is use for comparission.\n",
    "It return either True or False value.\n",
    "\n",
    "assignment operator (=) is use to assign values .\n",
    "It assign the value on right hand side value to the variable on left side.\n",
    "\"\"\"\n",
    "x = 5 #assigns value 5 to the variable x\n",
    "y = 7\n",
    "result = x == y\n",
    "print(x,y,result)"
   ]
  },
  {
   "cell_type": "code",
   "execution_count": 10,
   "id": "22d48fa1",
   "metadata": {},
   "outputs": [
    {
     "name": "stdout",
     "output_type": "stream",
     "text": [
      "ham\n",
      "spam\n",
      "spam\n"
     ]
    }
   ],
   "source": [
    "### Ques7 :\n",
    "\"\"\"\n",
    "There are three blocks in the given code.\n",
    "First - if block\n",
    "Second - if else block\n",
    "Third - print statements\n",
    "\"\"\"\n",
    "spam = 0\n",
    "if spam == 10:\n",
    "    print('eggs')\n",
    "if spam > 5:\n",
    "    print('bacon')\n",
    "else:\n",
    "    print('ham')\n",
    "print('spam')\n",
    "print('spam')"
   ]
  },
  {
   "cell_type": "code",
   "execution_count": 11,
   "id": "8aa36d1f",
   "metadata": {},
   "outputs": [
    {
     "name": "stdout",
     "output_type": "stream",
     "text": [
      "Greetings!\n"
     ]
    }
   ],
   "source": [
    "### Ques8 :\n",
    "spam = 0\n",
    "if spam == 1:\n",
    "    print('Hello')\n",
    "elif spam == 2:\n",
    "    print('Howdy')\n",
    "else:\n",
    "    print('Greetings!')"
   ]
  },
  {
   "cell_type": "code",
   "execution_count": 12,
   "id": "813d924a",
   "metadata": {},
   "outputs": [],
   "source": [
    "### Ques9 :\n",
    "# ctrl + c on windows or Linux\n",
    "# command + . on macOS"
   ]
  },
  {
   "cell_type": "code",
   "execution_count": 13,
   "id": "7d9a524e",
   "metadata": {},
   "outputs": [
    {
     "name": "stdout",
     "output_type": "stream",
     "text": [
      "1\n",
      "2\n",
      "4\n",
      "5\n",
      "7\n",
      "8\n"
     ]
    }
   ],
   "source": [
    "### Ques10 :\n",
    "\"\"\"\n",
    "break - is a control flow statement.\n",
    "It is used to break out of the current loop.\n",
    "continue - is also a control flow statement.\n",
    "It is use to skip the current iteration and proceed to the next iteration of the loop. \n",
    "\"\"\"\n",
    "for i in range(12):\n",
    "    if i % 3 == 0:\n",
    "        continue\n",
    "    if i == 10:\n",
    "        break\n",
    "    print(i)"
   ]
  },
  {
   "cell_type": "code",
   "execution_count": 14,
   "id": "89945a37",
   "metadata": {},
   "outputs": [
    {
     "name": "stdout",
     "output_type": "stream",
     "text": [
      "0\n",
      "1\n",
      "2\n",
      "3\n",
      "4\n",
      "5\n",
      "6\n",
      "7\n",
      "8\n",
      "9\n",
      "\n",
      "0\n",
      "1\n",
      "2\n",
      "3\n",
      "4\n",
      "5\n",
      "6\n",
      "7\n",
      "8\n",
      "9\n",
      "\n",
      "0\n",
      "1\n",
      "2\n",
      "3\n",
      "4\n",
      "5\n",
      "6\n",
      "7\n",
      "8\n",
      "9\n"
     ]
    }
   ],
   "source": [
    "### Ques11 :\n",
    "\"\"\"\n",
    "all the three loop print the value in range 10\"\"\"\n",
    "for i in range(10):\n",
    "    print(i)      #in this loop only range is specified \n",
    "print()\n",
    "for i in range(0,10):\n",
    "    print(i)      #in this loop starting point and range both are specified\n",
    "print()\n",
    "for i in range(0,10,1):\n",
    "    print(i)      #in this loop starting point, range and step all three are sepcified "
   ]
  },
  {
   "cell_type": "code",
   "execution_count": 15,
   "id": "b67dd7bb",
   "metadata": {},
   "outputs": [
    {
     "name": "stdout",
     "output_type": "stream",
     "text": [
      "1\n",
      "2\n",
      "3\n",
      "4\n",
      "5\n",
      "6\n",
      "7\n",
      "8\n",
      "9\n",
      "10\n",
      "\n",
      "1\n",
      "2\n",
      "3\n",
      "4\n",
      "5\n",
      "6\n",
      "7\n",
      "8\n",
      "9\n",
      "10\n"
     ]
    }
   ],
   "source": [
    "### Ques12 :\n",
    "#printing using for loop\n",
    "for i in range(1,11):\n",
    "    print(i)    #short program\n",
    "print()\n",
    "\n",
    "#printing using while loop\n",
    "count = 1\n",
    "while count < 11:\n",
    "    print(count)\n",
    "    count+=1"
   ]
  },
  {
   "cell_type": "code",
   "execution_count": null,
   "id": "0860840b",
   "metadata": {},
   "outputs": [],
   "source": [
    "### Ques13 :\n",
    "\"\"\"\n",
    "from spam import bacon\n",
    "\"\"\""
   ]
  }
 ],
 "metadata": {
  "kernelspec": {
   "display_name": "Python 3 (ipykernel)",
   "language": "python",
   "name": "python3"
  },
  "language_info": {
   "codemirror_mode": {
    "name": "ipython",
    "version": 3
   },
   "file_extension": ".py",
   "mimetype": "text/x-python",
   "name": "python",
   "nbconvert_exporter": "python",
   "pygments_lexer": "ipython3",
   "version": "3.9.12"
  }
 },
 "nbformat": 4,
 "nbformat_minor": 5
}
